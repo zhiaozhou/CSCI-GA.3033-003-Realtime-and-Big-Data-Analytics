{
 "cells": [
  {
   "cell_type": "code",
   "execution_count": 4,
   "metadata": {
    "collapsed": true
   },
   "outputs": [],
   "source": [
    "import os \n",
    "import sys"
   ]
  },
  {
   "cell_type": "code",
   "execution_count": 5,
   "metadata": {
    "collapsed": true
   },
   "outputs": [],
   "source": [
    "f = open(os.getenv('HOME')+'/input/HW3.txt')\n",
    "lines = f.readlines()"
   ]
  },
  {
   "cell_type": "code",
   "execution_count": 6,
   "metadata": {
    "collapsed": false
   },
   "outputs": [
    {
     "data": {
      "text/plain": [
       "['A C F 0.166667\\n',\n",
       " 'B D E F 0.166667\\n',\n",
       " 'C A B 0.166667\\n',\n",
       " 'D A B C E F 0.166667\\n',\n",
       " 'E F 0.166667\\n',\n",
       " 'F B C 0.166667']"
      ]
     },
     "execution_count": 6,
     "metadata": {},
     "output_type": "execute_result"
    }
   ],
   "source": [
    "lines"
   ]
  },
  {
   "cell_type": "code",
   "execution_count": 8,
   "metadata": {
    "collapsed": false
   },
   "outputs": [
    {
     "name": "stdout",
     "output_type": "stream",
     "text": [
      "C A 0.083334\n",
      "F A 0.083334\n",
      "D B 0.055556\n",
      "E B 0.055556\n",
      "F B 0.055556\n",
      "A C 0.083334\n",
      "B C 0.083334\n",
      "A D 0.033333\n",
      "B D 0.033333\n",
      "C D 0.033333\n",
      "E D 0.033333\n",
      "F D 0.033333\n",
      "F E 0.166667\n",
      "B F 0.083334\n",
      "C F 0.083334\n"
     ]
    }
   ],
   "source": [
    "for line in lines:\n",
    "    elem = line.strip().split(' ')\n",
    "    for i in elem[1:-1]:\n",
    "        print(\"%s %s %.6f\" % (i,elem[0],float(elem[-1])/len(elem[1:-1])))"
   ]
  },
  {
   "cell_type": "code",
   "execution_count": null,
   "metadata": {
    "collapsed": true
   },
   "outputs": [],
   "source": []
  },
  {
   "cell_type": "code",
   "execution_count": 11,
   "metadata": {
    "collapsed": true
   },
   "outputs": [],
   "source": [
    "lines = \"\"\"C A 0.083334\n",
    "F A 0.083334\n",
    "D B 0.055556\n",
    "E B 0.055556\n",
    "F B 0.055556\n",
    "A C 0.083334\n",
    "B C 0.083334\n",
    "A D 0.033333\n",
    "B D 0.033333\n",
    "C D 0.033333\n",
    "E D 0.033333\n",
    "F D 0.033333\n",
    "F E 0.166667\n",
    "B F 0.083334\n",
    "C F 0.083334\"\"\".split(\"\\n\")"
   ]
  },
  {
   "cell_type": "code",
   "execution_count": 12,
   "metadata": {
    "collapsed": false
   },
   "outputs": [
    {
     "data": {
      "text/plain": [
       "['C A 0.083334',\n",
       " 'F A 0.083334',\n",
       " 'D B 0.055556',\n",
       " 'E B 0.055556',\n",
       " 'F B 0.055556',\n",
       " 'A C 0.083334',\n",
       " 'B C 0.083334',\n",
       " 'A D 0.033333',\n",
       " 'B D 0.033333',\n",
       " 'C D 0.033333',\n",
       " 'E D 0.033333',\n",
       " 'F D 0.033333',\n",
       " 'F E 0.166667',\n",
       " 'B F 0.083334',\n",
       " 'C F 0.083334']"
      ]
     },
     "execution_count": 12,
     "metadata": {},
     "output_type": "execute_result"
    }
   ],
   "source": [
    "lines"
   ]
  },
  {
   "cell_type": "code",
   "execution_count": 13,
   "metadata": {
    "collapsed": false
   },
   "outputs": [
    {
     "data": {
      "text/plain": [
       "<zip at 0x7f6768703c88>"
      ]
     },
     "execution_count": 13,
     "metadata": {},
     "output_type": "execute_result"
    }
   ],
   "source": [
    "zip([line.split(' ')[0] for line in lines],[[line.split(' ')[1],float(line.split(' ')[-1])] for line in lines])"
   ]
  },
  {
   "cell_type": "code",
   "execution_count": 14,
   "metadata": {
    "collapsed": false
   },
   "outputs": [],
   "source": [
    "values = list(zip([line.split(' ')[0] for line in lines],[[line.split(' ')[1],float(line.split(' ')[-1])] for line in lines]))"
   ]
  },
  {
   "cell_type": "code",
   "execution_count": 15,
   "metadata": {
    "collapsed": false
   },
   "outputs": [],
   "source": [
    "line = lines[0]"
   ]
  },
  {
   "cell_type": "code",
   "execution_count": 16,
   "metadata": {
    "collapsed": false
   },
   "outputs": [
    {
     "data": {
      "text/plain": [
       "'C A 0.083334'"
      ]
     },
     "execution_count": 16,
     "metadata": {},
     "output_type": "execute_result"
    }
   ],
   "source": [
    "line"
   ]
  },
  {
   "cell_type": "code",
   "execution_count": 17,
   "metadata": {
    "collapsed": false
   },
   "outputs": [
    {
     "data": {
      "text/plain": [
       "'C'"
      ]
     },
     "execution_count": 17,
     "metadata": {},
     "output_type": "execute_result"
    }
   ],
   "source": [
    "line.split(' ')[0]"
   ]
  },
  {
   "cell_type": "code",
   "execution_count": 18,
   "metadata": {
    "collapsed": true
   },
   "outputs": [],
   "source": [
    "from collections import defaultdict"
   ]
  },
  {
   "cell_type": "code",
   "execution_count": 80,
   "metadata": {
    "collapsed": false
   },
   "outputs": [],
   "source": [
    "result = defaultdict(lambda: [[],0])"
   ]
  },
  {
   "cell_type": "code",
   "execution_count": 81,
   "metadata": {
    "collapsed": false
   },
   "outputs": [
    {
     "data": {
      "text/plain": [
       "['C A 0.083334',\n",
       " 'F A 0.083334',\n",
       " 'D B 0.055556',\n",
       " 'E B 0.055556',\n",
       " 'F B 0.055556',\n",
       " 'A C 0.083334',\n",
       " 'B C 0.083334',\n",
       " 'A D 0.033333',\n",
       " 'B D 0.033333',\n",
       " 'C D 0.033333',\n",
       " 'E D 0.033333',\n",
       " 'F D 0.033333',\n",
       " 'F E 0.166667',\n",
       " 'B F 0.083334',\n",
       " 'C F 0.083334']"
      ]
     },
     "execution_count": 81,
     "metadata": {},
     "output_type": "execute_result"
    }
   ],
   "source": [
    "lines"
   ]
  },
  {
   "cell_type": "code",
   "execution_count": 82,
   "metadata": {
    "collapsed": false
   },
   "outputs": [
    {
     "data": {
      "text/plain": [
       "['C', 'F', 'D', 'E', 'F', 'A', 'B', 'A', 'B', 'C', 'E', 'F', 'F', 'B', 'C']"
      ]
     },
     "execution_count": 82,
     "metadata": {},
     "output_type": "execute_result"
    }
   ],
   "source": [
    "[line.split(' ')[0] for line in lines]"
   ]
  },
  {
   "cell_type": "code",
   "execution_count": 83,
   "metadata": {
    "collapsed": false
   },
   "outputs": [
    {
     "data": {
      "text/plain": [
       "['A', 'A', 'B', 'B', 'B', 'C', 'C', 'D', 'D', 'D', 'D', 'D', 'E', 'F', 'F']"
      ]
     },
     "execution_count": 83,
     "metadata": {},
     "output_type": "execute_result"
    }
   ],
   "source": [
    "[line.split(' ')[1] for line in lines]"
   ]
  },
  {
   "cell_type": "code",
   "execution_count": 84,
   "metadata": {
    "collapsed": true
   },
   "outputs": [],
   "source": [
    "sss=[]"
   ]
  },
  {
   "cell_type": "code",
   "execution_count": 85,
   "metadata": {
    "collapsed": false
   },
   "outputs": [],
   "source": [
    "for line in lines:\n",
    "    result[line.split(' ')[0]][1] += float(line.split(' ')[-1])\n",
    "    sss.append(line)\n",
    "for key in result.keys():\n",
    "    result[key][0].append([line[0] for line in sss if line.split(' ')[1]==key])"
   ]
  },
  {
   "cell_type": "code",
   "execution_count": 86,
   "metadata": {
    "collapsed": false,
    "scrolled": true
   },
   "outputs": [
    {
     "data": {
      "text/plain": [
       "defaultdict(<function __main__.<lambda>>,\n",
       "            {'A': [[['C', 'F']], 0.116667],\n",
       "             'B': [[['D', 'E', 'F']], 0.200001],\n",
       "             'C': [[['A', 'B']], 0.200001],\n",
       "             'D': [[['A', 'B', 'C', 'E', 'F']], 0.055556],\n",
       "             'E': [[['F']], 0.088889],\n",
       "             'F': [[['B', 'C']], 0.33889]})"
      ]
     },
     "execution_count": 86,
     "metadata": {},
     "output_type": "execute_result"
    }
   ],
   "source": [
    "result"
   ]
  },
  {
   "cell_type": "code",
   "execution_count": 89,
   "metadata": {
    "collapsed": false
   },
   "outputs": [
    {
     "name": "stdout",
     "output_type": "stream",
     "text": [
      "C A B 0.200001\n",
      "F B C 0.338890\n",
      "D A B C E F 0.055556\n",
      "E F 0.088889\n",
      "A C F 0.116667\n",
      "B D E F 0.200001\n"
     ]
    }
   ],
   "source": [
    "for i in result:\n",
    "    print('%s %s %.6f' % (i, ' '.join(result[i][0][0]), result[i][-1]))"
   ]
  },
  {
   "cell_type": "code",
   "execution_count": null,
   "metadata": {
    "collapsed": true
   },
   "outputs": [],
   "source": []
  },
  {
   "cell_type": "code",
   "execution_count": null,
   "metadata": {
    "collapsed": true
   },
   "outputs": [],
   "source": []
  }
 ],
 "metadata": {
  "kernelspec": {
   "display_name": "Python 3",
   "language": "python",
   "name": "python3"
  },
  "language_info": {
   "codemirror_mode": {
    "name": "ipython",
    "version": 3
   },
   "file_extension": ".py",
   "mimetype": "text/x-python",
   "name": "python",
   "nbconvert_exporter": "python",
   "pygments_lexer": "ipython3",
   "version": "3.6.0"
  }
 },
 "nbformat": 4,
 "nbformat_minor": 2
}
