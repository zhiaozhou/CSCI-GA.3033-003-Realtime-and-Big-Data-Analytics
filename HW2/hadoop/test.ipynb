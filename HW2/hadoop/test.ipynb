{
 "cells": [
  {
   "cell_type": "code",
   "execution_count": 1,
   "metadata": {
    "collapsed": true
   },
   "outputs": [],
   "source": [
    "import os\n",
    "import sys"
   ]
  },
  {
   "cell_type": "code",
   "execution_count": 37,
   "metadata": {
    "collapsed": true
   },
   "outputs": [],
   "source": [
    "terms = ['hackathon', 'Dec', 'Chicago', 'Java']\n",
    "\n",
    "input_file = open(os.getenv(\"HOME\")+\"/input/HW2.txt\")\n",
    "lines = input_file.readlines()"
   ]
  },
  {
   "cell_type": "code",
   "execution_count": 38,
   "metadata": {
    "collapsed": false
   },
   "outputs": [
    {
     "data": {
      "text/plain": [
       "['09-Dec-17,6:00PM;#Hackatopia,Tribeca Film Hackathon: Code As A New Language For Content Creators Hackathon\\n',\n",
       " '28-Oct-17,7:00PM;#NYCHadoop,Hadoop-NYC Strata/Hadoop World Meetup at Google NYC\\n',\n",
       " \"31-Dec-17,3:00PM;#Hackatopia,Designers, Developers, Doers, don't miss this upcoming Chicago hackathon \"]"
      ]
     },
     "execution_count": 38,
     "metadata": {},
     "output_type": "execute_result"
    }
   ],
   "source": [
    "lines"
   ]
  },
  {
   "cell_type": "code",
   "execution_count": 41,
   "metadata": {
    "collapsed": false
   },
   "outputs": [
    {
     "name": "stdout",
     "output_type": "stream",
     "text": [
      "hackathon,1\n",
      "Dec,1\n",
      "Chicago,0\n",
      "Java,0\n",
      "hackathon,0\n",
      "Dec,0\n",
      "Chicago,0\n",
      "Java,0\n",
      "hackathon,1\n",
      "Dec,1\n",
      "Chicago,1\n",
      "Java,0\n"
     ]
    }
   ],
   "source": [
    "for line in lines:\n",
    "    for term in terms:\n",
    "        print(\"{},{}\".format(term,int(term.lower() in line.lower())))"
   ]
  },
  {
   "cell_type": "code",
   "execution_count": 43,
   "metadata": {
    "collapsed": true
   },
   "outputs": [],
   "source": [
    "line = lines[0]"
   ]
  },
  {
   "cell_type": "code",
   "execution_count": 42,
   "metadata": {
    "collapsed": false
   },
   "outputs": [],
   "source": [
    "lines = \"\"\"hackathon,1\n",
    "Dec,1\n",
    "Chicago,0\n",
    "Java,0\n",
    "hackathon,0\n",
    "Dec,0\n",
    "Chicago,0\n",
    "Java,0\n",
    "hackathon,1\n",
    "Dec,1\n",
    "Chicago,1\n",
    "Java,0\"\"\".split(\"\\n\")"
   ]
  },
  {
   "cell_type": "code",
   "execution_count": 44,
   "metadata": {
    "collapsed": false
   },
   "outputs": [
    {
     "data": {
      "text/plain": [
       "['hackathon,1',\n",
       " 'Dec,1',\n",
       " 'Chicago,0',\n",
       " 'Java,0',\n",
       " 'hackathon,0',\n",
       " 'Dec,0',\n",
       " 'Chicago,0',\n",
       " 'Java,0',\n",
       " 'hackathon,1',\n",
       " 'Dec,1',\n",
       " 'Chicago,1',\n",
       " 'Java,0']"
      ]
     },
     "execution_count": 44,
     "metadata": {},
     "output_type": "execute_result"
    }
   ],
   "source": [
    "lines"
   ]
  },
  {
   "cell_type": "code",
   "execution_count": 45,
   "metadata": {
    "collapsed": true
   },
   "outputs": [],
   "source": [
    "line = lines[0]"
   ]
  },
  {
   "cell_type": "code",
   "execution_count": 46,
   "metadata": {
    "collapsed": false
   },
   "outputs": [
    {
     "data": {
      "text/plain": [
       "'hackathon,1'"
      ]
     },
     "execution_count": 46,
     "metadata": {},
     "output_type": "execute_result"
    }
   ],
   "source": [
    "line"
   ]
  },
  {
   "cell_type": "code",
   "execution_count": 47,
   "metadata": {
    "collapsed": true
   },
   "outputs": [],
   "source": [
    "keys = set([i.split(\",\")[0] for i in lines])"
   ]
  },
  {
   "cell_type": "code",
   "execution_count": 48,
   "metadata": {
    "collapsed": false
   },
   "outputs": [
    {
     "data": {
      "text/plain": [
       "{'Chicago': 0, 'Dec': 0, 'Java': 0, 'hackathon': 0}"
      ]
     },
     "execution_count": 48,
     "metadata": {},
     "output_type": "execute_result"
    }
   ],
   "source": [
    "dict(zip(keys,[0]*len(keys)))"
   ]
  },
  {
   "cell_type": "code",
   "execution_count": 49,
   "metadata": {
    "collapsed": true
   },
   "outputs": [],
   "source": [
    "from collections import defaultdict"
   ]
  },
  {
   "cell_type": "code",
   "execution_count": 50,
   "metadata": {
    "collapsed": false
   },
   "outputs": [],
   "source": [
    "output = defaultdict(int)\n",
    "for line in lines:\n",
    "    key = line.split(\",\")[0]\n",
    "    value = int(line.split(\",\")[1])\n",
    "    output[key] += value"
   ]
  },
  {
   "cell_type": "code",
   "execution_count": 52,
   "metadata": {
    "collapsed": false
   },
   "outputs": [
    {
     "data": {
      "text/plain": [
       "dict_items([('hackathon', 2), ('Dec', 2), ('Chicago', 1), ('Java', 0)])"
      ]
     },
     "execution_count": 52,
     "metadata": {},
     "output_type": "execute_result"
    }
   ],
   "source": [
    "output.items()"
   ]
  },
  {
   "cell_type": "code",
   "execution_count": 60,
   "metadata": {
    "collapsed": false
   },
   "outputs": [
    {
     "name": "stdout",
     "output_type": "stream",
     "text": [
      "hackathon\n",
      "Dec\n",
      "Chicago\n",
      "Java\n"
     ]
    }
   ],
   "source": [
    "for i,j in output.items():\n",
    "    print(i)"
   ]
  },
  {
   "cell_type": "code",
   "execution_count": 62,
   "metadata": {
    "collapsed": false
   },
   "outputs": [
    {
     "name": "stdout",
     "output_type": "stream",
     "text": [
      "hackathon 2\n",
      "Dec 2\n",
      "Chicago 1\n",
      "Java 0\n"
     ]
    }
   ],
   "source": [
    "for i,j in output.items():\n",
    "    print(i,j)"
   ]
  }
 ],
 "metadata": {
  "kernelspec": {
   "display_name": "Python 3",
   "language": "python",
   "name": "python3"
  },
  "language_info": {
   "codemirror_mode": {
    "name": "ipython",
    "version": 3
   },
   "file_extension": ".py",
   "mimetype": "text/x-python",
   "name": "python",
   "nbconvert_exporter": "python",
   "pygments_lexer": "ipython3",
   "version": "3.6.0"
  }
 },
 "nbformat": 4,
 "nbformat_minor": 2
}
